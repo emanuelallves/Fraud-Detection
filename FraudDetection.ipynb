{
 "cells": [
  {
   "cell_type": "markdown",
   "id": "5f077acf",
   "metadata": {},
   "source": [
    "# 1. Introdução\n",
    "\n",
    "Neste projeto utilizei um dataset de transações financeiras para prever fraudes. Coletei uma amostra do dataset original onde preservei o percentual da quantidade de fraudes, realizei uma análise exploratória para identificar padrões e discrepâncias entre transações legítimas e fraudulentas. Com base nessas informações, desenvolvi um modelo de machine learning para identificar possíveis fraudes, auxiliando na prevenção de perdas financeiras."
   ]
  },
  {
   "cell_type": "markdown",
   "id": "d3056974",
   "metadata": {},
   "source": [
    "# 2. Carregando bibliotecas"
   ]
  },
  {
   "cell_type": "code",
   "execution_count": 55,
   "id": "52663a6e",
   "metadata": {},
   "outputs": [],
   "source": [
    "import pandas as pd\n",
    "pd.set_option('display.max_columns', None)\n",
    "import numpy as np\n",
    "import matplotlib.pyplot as plt\n",
    "plt.style.use('ggplot')\n",
    "import seaborn as sns\n",
    "import warnings\n",
    "warnings.filterwarnings('ignore')\n",
    "from sklearn.model_selection import (train_test_split,\n",
    "                                     KFold,\n",
    "                                     cross_val_score)\n",
    "from sklearn.compose import ColumnTransformer\n",
    "from sklearn.pipeline import Pipeline\n",
    "from sklearn.preprocessing import OneHotEncoder, StandardScaler\n",
    "from feature_engine.encoding import CountFrequencyEncoder\n",
    "from feature_engine.transformation import LogTransformer\n",
    "from feature_engine.discretisation import EqualWidthDiscretiser\n",
    "from feature_engine.selection import RecursiveFeatureElimination\n",
    "from sklearn.ensemble import RandomForestClassifier\n",
    "import xgboost as xgb\n",
    "from sklearn.metrics import (accuracy_score,\n",
    "                             roc_auc_score,\n",
    "                             f1_score,\n",
    "                             precision_score,\n",
    "                             recall_score,\n",
    "                             confusion_matrix)"
   ]
  },
  {
   "cell_type": "markdown",
   "id": "dacde029",
   "metadata": {},
   "source": [
    "# 3. Analisando estrutura do dataset"
   ]
  },
  {
   "cell_type": "code",
   "execution_count": 5,
   "id": "06d15fe6",
   "metadata": {},
   "outputs": [],
   "source": [
    "df = pd.read_csv('C:/Users/joema/Datasets/credit_card_transactions.csv')"
   ]
  },
  {
   "cell_type": "code",
   "execution_count": 6,
   "id": "59f3629a",
   "metadata": {},
   "outputs": [
    {
     "data": {
      "text/html": [
       "<div>\n",
       "<style scoped>\n",
       "    .dataframe tbody tr th:only-of-type {\n",
       "        vertical-align: middle;\n",
       "    }\n",
       "\n",
       "    .dataframe tbody tr th {\n",
       "        vertical-align: top;\n",
       "    }\n",
       "\n",
       "    .dataframe thead th {\n",
       "        text-align: right;\n",
       "    }\n",
       "</style>\n",
       "<table border=\"1\" class=\"dataframe\">\n",
       "  <thead>\n",
       "    <tr style=\"text-align: right;\">\n",
       "      <th></th>\n",
       "      <th>Unnamed: 0</th>\n",
       "      <th>trans_date_trans_time</th>\n",
       "      <th>cc_num</th>\n",
       "      <th>merchant</th>\n",
       "      <th>category</th>\n",
       "      <th>amt</th>\n",
       "      <th>first</th>\n",
       "      <th>last</th>\n",
       "      <th>gender</th>\n",
       "      <th>street</th>\n",
       "      <th>city</th>\n",
       "      <th>state</th>\n",
       "      <th>zip</th>\n",
       "      <th>lat</th>\n",
       "      <th>long</th>\n",
       "      <th>city_pop</th>\n",
       "      <th>job</th>\n",
       "      <th>dob</th>\n",
       "      <th>trans_num</th>\n",
       "      <th>unix_time</th>\n",
       "      <th>merch_lat</th>\n",
       "      <th>merch_long</th>\n",
       "      <th>is_fraud</th>\n",
       "      <th>merch_zipcode</th>\n",
       "    </tr>\n",
       "  </thead>\n",
       "  <tbody>\n",
       "    <tr>\n",
       "      <th>0</th>\n",
       "      <td>0</td>\n",
       "      <td>2019-01-01 00:00:18</td>\n",
       "      <td>2703186189652095</td>\n",
       "      <td>fraud_Rippin, Kub and Mann</td>\n",
       "      <td>misc_net</td>\n",
       "      <td>4.97</td>\n",
       "      <td>Jennifer</td>\n",
       "      <td>Banks</td>\n",
       "      <td>F</td>\n",
       "      <td>561 Perry Cove</td>\n",
       "      <td>Moravian Falls</td>\n",
       "      <td>NC</td>\n",
       "      <td>28654</td>\n",
       "      <td>36.0788</td>\n",
       "      <td>-81.1781</td>\n",
       "      <td>3495</td>\n",
       "      <td>Psychologist, counselling</td>\n",
       "      <td>1988-03-09</td>\n",
       "      <td>0b242abb623afc578575680df30655b9</td>\n",
       "      <td>1325376018</td>\n",
       "      <td>36.011293</td>\n",
       "      <td>-82.048315</td>\n",
       "      <td>0</td>\n",
       "      <td>28705.0</td>\n",
       "    </tr>\n",
       "    <tr>\n",
       "      <th>1</th>\n",
       "      <td>1</td>\n",
       "      <td>2019-01-01 00:00:44</td>\n",
       "      <td>630423337322</td>\n",
       "      <td>fraud_Heller, Gutmann and Zieme</td>\n",
       "      <td>grocery_pos</td>\n",
       "      <td>107.23</td>\n",
       "      <td>Stephanie</td>\n",
       "      <td>Gill</td>\n",
       "      <td>F</td>\n",
       "      <td>43039 Riley Greens Suite 393</td>\n",
       "      <td>Orient</td>\n",
       "      <td>WA</td>\n",
       "      <td>99160</td>\n",
       "      <td>48.8878</td>\n",
       "      <td>-118.2105</td>\n",
       "      <td>149</td>\n",
       "      <td>Special educational needs teacher</td>\n",
       "      <td>1978-06-21</td>\n",
       "      <td>1f76529f8574734946361c461b024d99</td>\n",
       "      <td>1325376044</td>\n",
       "      <td>49.159047</td>\n",
       "      <td>-118.186462</td>\n",
       "      <td>0</td>\n",
       "      <td>NaN</td>\n",
       "    </tr>\n",
       "    <tr>\n",
       "      <th>2</th>\n",
       "      <td>2</td>\n",
       "      <td>2019-01-01 00:00:51</td>\n",
       "      <td>38859492057661</td>\n",
       "      <td>fraud_Lind-Buckridge</td>\n",
       "      <td>entertainment</td>\n",
       "      <td>220.11</td>\n",
       "      <td>Edward</td>\n",
       "      <td>Sanchez</td>\n",
       "      <td>M</td>\n",
       "      <td>594 White Dale Suite 530</td>\n",
       "      <td>Malad City</td>\n",
       "      <td>ID</td>\n",
       "      <td>83252</td>\n",
       "      <td>42.1808</td>\n",
       "      <td>-112.2620</td>\n",
       "      <td>4154</td>\n",
       "      <td>Nature conservation officer</td>\n",
       "      <td>1962-01-19</td>\n",
       "      <td>a1a22d70485983eac12b5b88dad1cf95</td>\n",
       "      <td>1325376051</td>\n",
       "      <td>43.150704</td>\n",
       "      <td>-112.154481</td>\n",
       "      <td>0</td>\n",
       "      <td>83236.0</td>\n",
       "    </tr>\n",
       "    <tr>\n",
       "      <th>3</th>\n",
       "      <td>3</td>\n",
       "      <td>2019-01-01 00:01:16</td>\n",
       "      <td>3534093764340240</td>\n",
       "      <td>fraud_Kutch, Hermiston and Farrell</td>\n",
       "      <td>gas_transport</td>\n",
       "      <td>45.00</td>\n",
       "      <td>Jeremy</td>\n",
       "      <td>White</td>\n",
       "      <td>M</td>\n",
       "      <td>9443 Cynthia Court Apt. 038</td>\n",
       "      <td>Boulder</td>\n",
       "      <td>MT</td>\n",
       "      <td>59632</td>\n",
       "      <td>46.2306</td>\n",
       "      <td>-112.1138</td>\n",
       "      <td>1939</td>\n",
       "      <td>Patent attorney</td>\n",
       "      <td>1967-01-12</td>\n",
       "      <td>6b849c168bdad6f867558c3793159a81</td>\n",
       "      <td>1325376076</td>\n",
       "      <td>47.034331</td>\n",
       "      <td>-112.561071</td>\n",
       "      <td>0</td>\n",
       "      <td>NaN</td>\n",
       "    </tr>\n",
       "    <tr>\n",
       "      <th>4</th>\n",
       "      <td>4</td>\n",
       "      <td>2019-01-01 00:03:06</td>\n",
       "      <td>375534208663984</td>\n",
       "      <td>fraud_Keeling-Crist</td>\n",
       "      <td>misc_pos</td>\n",
       "      <td>41.96</td>\n",
       "      <td>Tyler</td>\n",
       "      <td>Garcia</td>\n",
       "      <td>M</td>\n",
       "      <td>408 Bradley Rest</td>\n",
       "      <td>Doe Hill</td>\n",
       "      <td>VA</td>\n",
       "      <td>24433</td>\n",
       "      <td>38.4207</td>\n",
       "      <td>-79.4629</td>\n",
       "      <td>99</td>\n",
       "      <td>Dance movement psychotherapist</td>\n",
       "      <td>1986-03-28</td>\n",
       "      <td>a41d7549acf90789359a9aa5346dcb46</td>\n",
       "      <td>1325376186</td>\n",
       "      <td>38.674999</td>\n",
       "      <td>-78.632459</td>\n",
       "      <td>0</td>\n",
       "      <td>22844.0</td>\n",
       "    </tr>\n",
       "  </tbody>\n",
       "</table>\n",
       "</div>"
      ],
      "text/plain": [
       "   Unnamed: 0 trans_date_trans_time            cc_num  \\\n",
       "0           0   2019-01-01 00:00:18  2703186189652095   \n",
       "1           1   2019-01-01 00:00:44      630423337322   \n",
       "2           2   2019-01-01 00:00:51    38859492057661   \n",
       "3           3   2019-01-01 00:01:16  3534093764340240   \n",
       "4           4   2019-01-01 00:03:06   375534208663984   \n",
       "\n",
       "                             merchant       category     amt      first  \\\n",
       "0          fraud_Rippin, Kub and Mann       misc_net    4.97   Jennifer   \n",
       "1     fraud_Heller, Gutmann and Zieme    grocery_pos  107.23  Stephanie   \n",
       "2                fraud_Lind-Buckridge  entertainment  220.11     Edward   \n",
       "3  fraud_Kutch, Hermiston and Farrell  gas_transport   45.00     Jeremy   \n",
       "4                 fraud_Keeling-Crist       misc_pos   41.96      Tyler   \n",
       "\n",
       "      last gender                        street            city state    zip  \\\n",
       "0    Banks      F                561 Perry Cove  Moravian Falls    NC  28654   \n",
       "1     Gill      F  43039 Riley Greens Suite 393          Orient    WA  99160   \n",
       "2  Sanchez      M      594 White Dale Suite 530      Malad City    ID  83252   \n",
       "3    White      M   9443 Cynthia Court Apt. 038         Boulder    MT  59632   \n",
       "4   Garcia      M              408 Bradley Rest        Doe Hill    VA  24433   \n",
       "\n",
       "       lat      long  city_pop                                job         dob  \\\n",
       "0  36.0788  -81.1781      3495          Psychologist, counselling  1988-03-09   \n",
       "1  48.8878 -118.2105       149  Special educational needs teacher  1978-06-21   \n",
       "2  42.1808 -112.2620      4154        Nature conservation officer  1962-01-19   \n",
       "3  46.2306 -112.1138      1939                    Patent attorney  1967-01-12   \n",
       "4  38.4207  -79.4629        99     Dance movement psychotherapist  1986-03-28   \n",
       "\n",
       "                          trans_num   unix_time  merch_lat  merch_long  \\\n",
       "0  0b242abb623afc578575680df30655b9  1325376018  36.011293  -82.048315   \n",
       "1  1f76529f8574734946361c461b024d99  1325376044  49.159047 -118.186462   \n",
       "2  a1a22d70485983eac12b5b88dad1cf95  1325376051  43.150704 -112.154481   \n",
       "3  6b849c168bdad6f867558c3793159a81  1325376076  47.034331 -112.561071   \n",
       "4  a41d7549acf90789359a9aa5346dcb46  1325376186  38.674999  -78.632459   \n",
       "\n",
       "   is_fraud  merch_zipcode  \n",
       "0         0        28705.0  \n",
       "1         0            NaN  \n",
       "2         0        83236.0  \n",
       "3         0            NaN  \n",
       "4         0        22844.0  "
      ]
     },
     "execution_count": 6,
     "metadata": {},
     "output_type": "execute_result"
    }
   ],
   "source": [
    "df.head()"
   ]
  },
  {
   "cell_type": "code",
   "execution_count": 7,
   "id": "544a77b6",
   "metadata": {},
   "outputs": [
    {
     "name": "stdout",
     "output_type": "stream",
     "text": [
      "O dataset possui 1296675 linhas e 24 colunas\n"
     ]
    }
   ],
   "source": [
    "print(f'O dataset possui {df.shape[0]} linhas e {df.shape[1]} colunas')"
   ]
  },
  {
   "cell_type": "code",
   "execution_count": 8,
   "id": "de9b466c",
   "metadata": {},
   "outputs": [
    {
     "data": {
      "text/plain": [
       "Unnamed: 0                    0\n",
       "trans_date_trans_time         0\n",
       "cc_num                        0\n",
       "merchant                      0\n",
       "category                      0\n",
       "amt                           0\n",
       "first                         0\n",
       "last                          0\n",
       "gender                        0\n",
       "street                        0\n",
       "city                          0\n",
       "state                         0\n",
       "zip                           0\n",
       "lat                           0\n",
       "long                          0\n",
       "city_pop                      0\n",
       "job                           0\n",
       "dob                           0\n",
       "trans_num                     0\n",
       "unix_time                     0\n",
       "merch_lat                     0\n",
       "merch_long                    0\n",
       "is_fraud                      0\n",
       "merch_zipcode            195973\n",
       "dtype: int64"
      ]
     },
     "execution_count": 8,
     "metadata": {},
     "output_type": "execute_result"
    }
   ],
   "source": [
    "df.isna().sum()"
   ]
  },
  {
   "cell_type": "code",
   "execution_count": 9,
   "id": "7518be6f",
   "metadata": {},
   "outputs": [],
   "source": [
    "df = df.drop(columns = ['merch_zipcode'])"
   ]
  },
  {
   "cell_type": "code",
   "execution_count": 10,
   "id": "73e74891",
   "metadata": {},
   "outputs": [
    {
     "name": "stdout",
     "output_type": "stream",
     "text": [
      "<class 'pandas.core.frame.DataFrame'>\n",
      "RangeIndex: 1296675 entries, 0 to 1296674\n",
      "Data columns (total 23 columns):\n",
      " #   Column                 Non-Null Count    Dtype  \n",
      "---  ------                 --------------    -----  \n",
      " 0   Unnamed: 0             1296675 non-null  int64  \n",
      " 1   trans_date_trans_time  1296675 non-null  object \n",
      " 2   cc_num                 1296675 non-null  int64  \n",
      " 3   merchant               1296675 non-null  object \n",
      " 4   category               1296675 non-null  object \n",
      " 5   amt                    1296675 non-null  float64\n",
      " 6   first                  1296675 non-null  object \n",
      " 7   last                   1296675 non-null  object \n",
      " 8   gender                 1296675 non-null  object \n",
      " 9   street                 1296675 non-null  object \n",
      " 10  city                   1296675 non-null  object \n",
      " 11  state                  1296675 non-null  object \n",
      " 12  zip                    1296675 non-null  int64  \n",
      " 13  lat                    1296675 non-null  float64\n",
      " 14  long                   1296675 non-null  float64\n",
      " 15  city_pop               1296675 non-null  int64  \n",
      " 16  job                    1296675 non-null  object \n",
      " 17  dob                    1296675 non-null  object \n",
      " 18  trans_num              1296675 non-null  object \n",
      " 19  unix_time              1296675 non-null  int64  \n",
      " 20  merch_lat              1296675 non-null  float64\n",
      " 21  merch_long             1296675 non-null  float64\n",
      " 22  is_fraud               1296675 non-null  int64  \n",
      "dtypes: float64(5), int64(6), object(12)\n",
      "memory usage: 227.5+ MB\n"
     ]
    }
   ],
   "source": [
    "df.info()"
   ]
  },
  {
   "cell_type": "code",
   "execution_count": 11,
   "id": "6a14af4a",
   "metadata": {},
   "outputs": [
    {
     "data": {
      "text/plain": [
       "Unnamed: 0               1296675\n",
       "trans_date_trans_time    1274791\n",
       "cc_num                       983\n",
       "merchant                     693\n",
       "category                      14\n",
       "amt                        52928\n",
       "first                        352\n",
       "last                         481\n",
       "gender                         2\n",
       "street                       983\n",
       "city                         894\n",
       "state                         51\n",
       "zip                          970\n",
       "lat                          968\n",
       "long                         969\n",
       "city_pop                     879\n",
       "job                          494\n",
       "dob                          968\n",
       "trans_num                1296675\n",
       "unix_time                1274823\n",
       "merch_lat                1247805\n",
       "merch_long               1275745\n",
       "is_fraud                       2\n",
       "dtype: int64"
      ]
     },
     "execution_count": 11,
     "metadata": {},
     "output_type": "execute_result"
    }
   ],
   "source": [
    "df.nunique()"
   ]
  },
  {
   "cell_type": "code",
   "execution_count": 12,
   "id": "af0b0a52",
   "metadata": {},
   "outputs": [
    {
     "data": {
      "text/plain": [
       "is_fraud\n",
       "0    0.994211\n",
       "1    0.005789\n",
       "Name: proportion, dtype: float64"
      ]
     },
     "execution_count": 12,
     "metadata": {},
     "output_type": "execute_result"
    }
   ],
   "source": [
    "df['is_fraud'].value_counts(normalize = True)"
   ]
  },
  {
   "cell_type": "code",
   "execution_count": 13,
   "id": "b4724939",
   "metadata": {},
   "outputs": [
    {
     "data": {
      "text/plain": [
       "count    1.296675e+06\n",
       "mean     7.035104e+01\n",
       "std      1.603160e+02\n",
       "min      1.000000e+00\n",
       "25%      9.650000e+00\n",
       "50%      4.752000e+01\n",
       "75%      8.314000e+01\n",
       "max      2.894890e+04\n",
       "Name: amt, dtype: float64"
      ]
     },
     "execution_count": 13,
     "metadata": {},
     "output_type": "execute_result"
    }
   ],
   "source": [
    "df['amt'].describe()"
   ]
  },
  {
   "cell_type": "code",
   "execution_count": 17,
   "id": "f9891dad",
   "metadata": {},
   "outputs": [],
   "source": [
    "transactions = df.sample(frac = 0.2)"
   ]
  },
  {
   "cell_type": "code",
   "execution_count": 18,
   "id": "89ef8641",
   "metadata": {},
   "outputs": [
    {
     "name": "stdout",
     "output_type": "stream",
     "text": [
      "A amostra do dataset possui 259335 linhas e 23 colunas\n"
     ]
    }
   ],
   "source": [
    "print(f'A amostra do dataset possui {transactions.shape[0]} linhas e {transactions.shape[1]} colunas')"
   ]
  },
  {
   "cell_type": "code",
   "execution_count": 19,
   "id": "1d58383d",
   "metadata": {},
   "outputs": [
    {
     "data": {
      "text/plain": [
       "is_fraud\n",
       "0    0.994197\n",
       "1    0.005803\n",
       "Name: proportion, dtype: float64"
      ]
     },
     "execution_count": 19,
     "metadata": {},
     "output_type": "execute_result"
    }
   ],
   "source": [
    "transactions['is_fraud'].value_counts(normalize = True)"
   ]
  },
  {
   "cell_type": "code",
   "execution_count": 20,
   "id": "ad298a50",
   "metadata": {},
   "outputs": [
    {
     "data": {
      "text/plain": [
       "count    259335.000000\n",
       "mean         70.375639\n",
       "std         156.049051\n",
       "min           1.000000\n",
       "25%           9.640000\n",
       "50%          47.420000\n",
       "75%          83.040000\n",
       "max       15034.180000\n",
       "Name: amt, dtype: float64"
      ]
     },
     "execution_count": 20,
     "metadata": {},
     "output_type": "execute_result"
    }
   ],
   "source": [
    "transactions['amt'].describe()"
   ]
  },
  {
   "cell_type": "markdown",
   "id": "51fd684b",
   "metadata": {},
   "source": [
    "# 4. Análise exploratória (EDA)"
   ]
  },
  {
   "cell_type": "code",
   "execution_count": 21,
   "id": "3f62d918",
   "metadata": {},
   "outputs": [
    {
     "data": {
      "image/png": "[encoded data removed]",
      "text/plain": [
       "<Figure size 600x600 with 1 Axes>"
      ]
     },
     "metadata": {},
     "output_type": "display_data"
    }
   ],
   "source": [
    "plt.figure(figsize = (6, 6))\n",
    "\n",
    "sns.boxplot(y = 'amt', data = transactions, color = 'purple')\n",
    "plt.title('Boxplot dos valores das transações')\n",
    "\n",
    "plt.show()"
   ]
  },
  {
   "cell_type": "code",
   "execution_count": 22,
   "id": "5c1e24d5",
   "metadata": {},
   "outputs": [],
   "source": [
    "gender_churn = transactions.groupby(['gender', 'is_fraud'])['is_fraud'].count()"
   ]
  },
  {
   "cell_type": "code",
   "execution_count": 23,
   "id": "faef3c01",
   "metadata": {},
   "outputs": [
    {
     "data": {
      "text/plain": [
       "gender  is_fraud\n",
       "F       0           141094\n",
       "        1              749\n",
       "M       0           116736\n",
       "        1              756\n",
       "Name: is_fraud, dtype: int64"
      ]
     },
     "execution_count": 23,
     "metadata": {},
     "output_type": "execute_result"
    }
   ],
   "source": [
    "gender_churn"
   ]
  },
  {
   "cell_type": "code",
   "execution_count": 28,
   "id": "df75174a",
   "metadata": {},
   "outputs": [
    {
     "data": {
      "image/png": "[encoded data removed]",
      "text/plain": [
       "<Figure size 600x600 with 1 Axes>"
      ]
     },
     "metadata": {},
     "output_type": "display_data"
    }
   ],
   "source": [
    "plt.figure(figsize = (6, 6))\n",
    "\n",
    "sns.countplot(hue = 'gender', x = 'is_fraud', data = transactions, palette = 'husl')\n",
    "plt.title('Distribuição das transações fraudulentas por gênero')\n",
    "plt.xlabel('Fraude')\n",
    "plt.legend()\n",
    "\n",
    "plt.text(0.2, 116502, str(116502), ha = 'center', va = 'bottom')\n",
    "plt.text(-0.2, 141326, str(141326), ha = 'center', va = 'bottom')\n",
    "plt.text(0.8, 745, str(745), ha = 'center', va = 'bottom')\n",
    "plt.text(1.2, 762, str(762), ha = 'center', va = 'bottom')\n",
    "\n",
    "plt.show()"
   ]
  },
  {
   "cell_type": "code",
   "execution_count": 29,
   "id": "6e620a97",
   "metadata": {},
   "outputs": [],
   "source": [
    "city_churn = transactions.groupby(['city', 'is_fraud'])['is_fraud'].count().unstack()\n",
    "\n",
    "city_churn = city_churn.fillna(0)"
   ]
  },
  {
   "cell_type": "code",
   "execution_count": 30,
   "id": "e81a8a41",
   "metadata": {
    "scrolled": true
   },
   "outputs": [],
   "source": [
    "top_city_churn = city_churn[city_churn[0].values < 20].sort_values(ascending = False, by = 1)[:15][1]"
   ]
  },
  {
   "cell_type": "code",
   "execution_count": 31,
   "id": "aa46f7d4",
   "metadata": {},
   "outputs": [
    {
     "data": {
      "image/png": "[encoded data removed]",
      "text/plain": [
       "<Figure size 600x600 with 1 Axes>"
      ]
     },
     "metadata": {},
     "output_type": "display_data"
    }
   ],
   "source": [
    "plt.figure(figsize = (6, 6))\n",
    "\n",
    "sns.barplot(y = top_city_churn.index, x = top_city_churn.values, palette = 'viridis')\n",
    "plt.title('Cidades que só apresentam transações fraudulentas')\n",
    "plt.xlabel('Quantidade de fraudes')\n",
    "\n",
    "ticks = range(15)\n",
    "citys_state = []\n",
    "\n",
    "for ci in top_city_churn.index:\n",
    "    citys_state.append(f\"{ci}({transactions.query('city == @ci')['state'].unique()[0]})\")\n",
    "\n",
    "plt.yticks(ticks = ticks, labels = citys_state)\n",
    "\n",
    "plt.show()"
   ]
  },
  {
   "cell_type": "markdown",
   "id": "596f1400",
   "metadata": {},
   "source": [
    "Identificamos um padrão alarmante, várias cidades estão enfrentando um problema significativo com fraudes, sem registrar nenhuma transação legal. Isso é preocupante, pois indica que estas cidades podem estar sendo exploradas por atividades fraudulentas sem qualquer compensação positiva."
   ]
  },
  {
   "cell_type": "code",
   "execution_count": 32,
   "id": "5a7b58c4",
   "metadata": {},
   "outputs": [],
   "source": [
    "state_churn = transactions.groupby(['state', 'is_fraud'])['is_fraud'].count().unstack()\n",
    "\n",
    "state_churn = state_churn.fillna(0)"
   ]
  },
  {
   "cell_type": "code",
   "execution_count": 33,
   "id": "44e85939",
   "metadata": {
    "scrolled": true
   },
   "outputs": [
    {
     "data": {
      "text/html": [
       "<div>\n",
       "<style scoped>\n",
       "    .dataframe tbody tr th:only-of-type {\n",
       "        vertical-align: middle;\n",
       "    }\n",
       "\n",
       "    .dataframe tbody tr th {\n",
       "        vertical-align: top;\n",
       "    }\n",
       "\n",
       "    .dataframe thead th {\n",
       "        text-align: right;\n",
       "    }\n",
       "</style>\n",
       "<table border=\"1\" class=\"dataframe\">\n",
       "  <thead>\n",
       "    <tr style=\"text-align: right;\">\n",
       "      <th>is_fraud</th>\n",
       "      <th>0</th>\n",
       "      <th>1</th>\n",
       "    </tr>\n",
       "    <tr>\n",
       "      <th>state</th>\n",
       "      <th></th>\n",
       "      <th></th>\n",
       "    </tr>\n",
       "  </thead>\n",
       "  <tbody>\n",
       "    <tr>\n",
       "      <th>NY</th>\n",
       "      <td>16606.0</td>\n",
       "      <td>107.0</td>\n",
       "    </tr>\n",
       "    <tr>\n",
       "      <th>PA</th>\n",
       "      <td>15876.0</td>\n",
       "      <td>91.0</td>\n",
       "    </tr>\n",
       "    <tr>\n",
       "      <th>TX</th>\n",
       "      <td>18780.0</td>\n",
       "      <td>90.0</td>\n",
       "    </tr>\n",
       "    <tr>\n",
       "      <th>CA</th>\n",
       "      <td>11149.0</td>\n",
       "      <td>68.0</td>\n",
       "    </tr>\n",
       "    <tr>\n",
       "      <th>OH</th>\n",
       "      <td>9211.0</td>\n",
       "      <td>66.0</td>\n",
       "    </tr>\n",
       "    <tr>\n",
       "      <th>FL</th>\n",
       "      <td>8493.0</td>\n",
       "      <td>57.0</td>\n",
       "    </tr>\n",
       "    <tr>\n",
       "      <th>IL</th>\n",
       "      <td>8598.0</td>\n",
       "      <td>54.0</td>\n",
       "    </tr>\n",
       "    <tr>\n",
       "      <th>MI</th>\n",
       "      <td>9173.0</td>\n",
       "      <td>52.0</td>\n",
       "    </tr>\n",
       "    <tr>\n",
       "      <th>AL</th>\n",
       "      <td>7975.0</td>\n",
       "      <td>46.0</td>\n",
       "    </tr>\n",
       "    <tr>\n",
       "      <th>VA</th>\n",
       "      <td>5918.0</td>\n",
       "      <td>44.0</td>\n",
       "    </tr>\n",
       "    <tr>\n",
       "      <th>SC</th>\n",
       "      <td>5835.0</td>\n",
       "      <td>44.0</td>\n",
       "    </tr>\n",
       "    <tr>\n",
       "      <th>OR</th>\n",
       "      <td>3708.0</td>\n",
       "      <td>36.0</td>\n",
       "    </tr>\n",
       "    <tr>\n",
       "      <th>WI</th>\n",
       "      <td>5765.0</td>\n",
       "      <td>35.0</td>\n",
       "    </tr>\n",
       "    <tr>\n",
       "      <th>MN</th>\n",
       "      <td>6385.0</td>\n",
       "      <td>35.0</td>\n",
       "    </tr>\n",
       "    <tr>\n",
       "      <th>KS</th>\n",
       "      <td>4602.0</td>\n",
       "      <td>35.0</td>\n",
       "    </tr>\n",
       "    <tr>\n",
       "      <th>MO</th>\n",
       "      <td>7615.0</td>\n",
       "      <td>34.0</td>\n",
       "    </tr>\n",
       "    <tr>\n",
       "      <th>MD</th>\n",
       "      <td>5239.0</td>\n",
       "      <td>31.0</td>\n",
       "    </tr>\n",
       "    <tr>\n",
       "      <th>NJ</th>\n",
       "      <td>4900.0</td>\n",
       "      <td>30.0</td>\n",
       "    </tr>\n",
       "    <tr>\n",
       "      <th>GA</th>\n",
       "      <td>5272.0</td>\n",
       "      <td>30.0</td>\n",
       "    </tr>\n",
       "    <tr>\n",
       "      <th>KY</th>\n",
       "      <td>5692.0</td>\n",
       "      <td>29.0</td>\n",
       "    </tr>\n",
       "    <tr>\n",
       "      <th>WV</th>\n",
       "      <td>5130.0</td>\n",
       "      <td>29.0</td>\n",
       "    </tr>\n",
       "    <tr>\n",
       "      <th>NE</th>\n",
       "      <td>4781.0</td>\n",
       "      <td>29.0</td>\n",
       "    </tr>\n",
       "    <tr>\n",
       "      <th>TN</th>\n",
       "      <td>3386.0</td>\n",
       "      <td>29.0</td>\n",
       "    </tr>\n",
       "    <tr>\n",
       "      <th>AR</th>\n",
       "      <td>6140.0</td>\n",
       "      <td>28.0</td>\n",
       "    </tr>\n",
       "    <tr>\n",
       "      <th>IA</th>\n",
       "      <td>5393.0</td>\n",
       "      <td>28.0</td>\n",
       "    </tr>\n",
       "    <tr>\n",
       "      <th>NC</th>\n",
       "      <td>6108.0</td>\n",
       "      <td>26.0</td>\n",
       "    </tr>\n",
       "    <tr>\n",
       "      <th>MS</th>\n",
       "      <td>4271.0</td>\n",
       "      <td>25.0</td>\n",
       "    </tr>\n",
       "    <tr>\n",
       "      <th>OK</th>\n",
       "      <td>5234.0</td>\n",
       "      <td>25.0</td>\n",
       "    </tr>\n",
       "    <tr>\n",
       "      <th>WA</th>\n",
       "      <td>3839.0</td>\n",
       "      <td>25.0</td>\n",
       "    </tr>\n",
       "    <tr>\n",
       "      <th>CO</th>\n",
       "      <td>2736.0</td>\n",
       "      <td>25.0</td>\n",
       "    </tr>\n",
       "    <tr>\n",
       "      <th>IN</th>\n",
       "      <td>5486.0</td>\n",
       "      <td>23.0</td>\n",
       "    </tr>\n",
       "    <tr>\n",
       "      <th>WY</th>\n",
       "      <td>3894.0</td>\n",
       "      <td>20.0</td>\n",
       "    </tr>\n",
       "    <tr>\n",
       "      <th>LA</th>\n",
       "      <td>4224.0</td>\n",
       "      <td>18.0</td>\n",
       "    </tr>\n",
       "    <tr>\n",
       "      <th>SD</th>\n",
       "      <td>2513.0</td>\n",
       "      <td>17.0</td>\n",
       "    </tr>\n",
       "    <tr>\n",
       "      <th>ME</th>\n",
       "      <td>3196.0</td>\n",
       "      <td>17.0</td>\n",
       "    </tr>\n",
       "    <tr>\n",
       "      <th>MA</th>\n",
       "      <td>2391.0</td>\n",
       "      <td>15.0</td>\n",
       "    </tr>\n",
       "    <tr>\n",
       "      <th>AZ</th>\n",
       "      <td>2122.0</td>\n",
       "      <td>14.0</td>\n",
       "    </tr>\n",
       "    <tr>\n",
       "      <th>VT</th>\n",
       "      <td>2434.0</td>\n",
       "      <td>14.0</td>\n",
       "    </tr>\n",
       "    <tr>\n",
       "      <th>UT</th>\n",
       "      <td>2140.0</td>\n",
       "      <td>12.0</td>\n",
       "    </tr>\n",
       "    <tr>\n",
       "      <th>NM</th>\n",
       "      <td>3255.0</td>\n",
       "      <td>12.0</td>\n",
       "    </tr>\n",
       "    <tr>\n",
       "      <th>NV</th>\n",
       "      <td>1109.0</td>\n",
       "      <td>11.0</td>\n",
       "    </tr>\n",
       "    <tr>\n",
       "      <th>NH</th>\n",
       "      <td>1594.0</td>\n",
       "      <td>11.0</td>\n",
       "    </tr>\n",
       "    <tr>\n",
       "      <th>ND</th>\n",
       "      <td>2923.0</td>\n",
       "      <td>10.0</td>\n",
       "    </tr>\n",
       "    <tr>\n",
       "      <th>AK</th>\n",
       "      <td>430.0</td>\n",
       "      <td>7.0</td>\n",
       "    </tr>\n",
       "    <tr>\n",
       "      <th>RI</th>\n",
       "      <td>110.0</td>\n",
       "      <td>4.0</td>\n",
       "    </tr>\n",
       "    <tr>\n",
       "      <th>DE</th>\n",
       "      <td>0.0</td>\n",
       "      <td>4.0</td>\n",
       "    </tr>\n",
       "    <tr>\n",
       "      <th>DC</th>\n",
       "      <td>749.0</td>\n",
       "      <td>4.0</td>\n",
       "    </tr>\n",
       "    <tr>\n",
       "      <th>ID</th>\n",
       "      <td>1123.0</td>\n",
       "      <td>3.0</td>\n",
       "    </tr>\n",
       "    <tr>\n",
       "      <th>MT</th>\n",
       "      <td>2294.0</td>\n",
       "      <td>3.0</td>\n",
       "    </tr>\n",
       "    <tr>\n",
       "      <th>CT</th>\n",
       "      <td>1547.0</td>\n",
       "      <td>2.0</td>\n",
       "    </tr>\n",
       "    <tr>\n",
       "      <th>HI</th>\n",
       "      <td>486.0</td>\n",
       "      <td>1.0</td>\n",
       "    </tr>\n",
       "  </tbody>\n",
       "</table>\n",
       "</div>"
      ],
      "text/plain": [
       "is_fraud        0      1\n",
       "state                   \n",
       "NY        16606.0  107.0\n",
       "PA        15876.0   91.0\n",
       "TX        18780.0   90.0\n",
       "CA        11149.0   68.0\n",
       "OH         9211.0   66.0\n",
       "FL         8493.0   57.0\n",
       "IL         8598.0   54.0\n",
       "MI         9173.0   52.0\n",
       "AL         7975.0   46.0\n",
       "VA         5918.0   44.0\n",
       "SC         5835.0   44.0\n",
       "OR         3708.0   36.0\n",
       "WI         5765.0   35.0\n",
       "MN         6385.0   35.0\n",
       "KS         4602.0   35.0\n",
       "MO         7615.0   34.0\n",
       "MD         5239.0   31.0\n",
       "NJ         4900.0   30.0\n",
       "GA         5272.0   30.0\n",
       "KY         5692.0   29.0\n",
       "WV         5130.0   29.0\n",
       "NE         4781.0   29.0\n",
       "TN         3386.0   29.0\n",
       "AR         6140.0   28.0\n",
       "IA         5393.0   28.0\n",
       "NC         6108.0   26.0\n",
       "MS         4271.0   25.0\n",
       "OK         5234.0   25.0\n",
       "WA         3839.0   25.0\n",
       "CO         2736.0   25.0\n",
       "IN         5486.0   23.0\n",
       "WY         3894.0   20.0\n",
       "LA         4224.0   18.0\n",
       "SD         2513.0   17.0\n",
       "ME         3196.0   17.0\n",
       "MA         2391.0   15.0\n",
       "AZ         2122.0   14.0\n",
       "VT         2434.0   14.0\n",
       "UT         2140.0   12.0\n",
       "NM         3255.0   12.0\n",
       "NV         1109.0   11.0\n",
       "NH         1594.0   11.0\n",
       "ND         2923.0   10.0\n",
       "AK          430.0    7.0\n",
       "RI          110.0    4.0\n",
       "DE            0.0    4.0\n",
       "DC          749.0    4.0\n",
       "ID         1123.0    3.0\n",
       "MT         2294.0    3.0\n",
       "CT         1547.0    2.0\n",
       "HI          486.0    1.0"
      ]
     },
     "execution_count": 33,
     "metadata": {},
     "output_type": "execute_result"
    }
   ],
   "source": [
    "state_churn.sort_values(ascending = False, by = 1)"
   ]
  },
  {
   "cell_type": "code",
   "execution_count": 34,
   "id": "d68a15d7",
   "metadata": {
    "scrolled": true
   },
   "outputs": [],
   "source": [
    "top_state_churn = state_churn.sort_values(ascending = False, by = 1)[:15][1]"
   ]
  },
  {
   "cell_type": "code",
   "execution_count": 35,
   "id": "8dea30a4",
   "metadata": {},
   "outputs": [
    {
     "data": {
      "image/png": "[encoded data removed]",
      "text/plain": [
       "<Figure size 600x600 with 1 Axes>"
      ]
     },
     "metadata": {},
     "output_type": "display_data"
    }
   ],
   "source": [
    "plt.figure(figsize = (6, 6))\n",
    "\n",
    "sns.barplot(y = top_state_churn.index, x = top_state_churn.values, palette = 'viridis')\n",
    "plt.title('Estados com mais casos de fraudes')\n",
    "plt.xlabel('Quantidade de fraudes')\n",
    "\n",
    "for i, v in enumerate(top_state_churn.values):\n",
    "    plt.text(v, i, str(v), ha = 'right', va = 'center', color = 'white')\n",
    "\n",
    "plt.show()"
   ]
  },
  {
   "cell_type": "markdown",
   "id": "af84545c",
   "metadata": {},
   "source": [
    "Estes são os estados com mais transações fraudulentas, o que foi de se esperar já que são os que mais possuem transações. Ao olhar a tabela de estados e suas transações notasse que temos 2 estados com pouquíssimas transações e um número de fraudes significante, os estados RI e DE, essa informação pode nos ajudar muito a detectar possíveis fraudes."
   ]
  },
  {
   "cell_type": "code",
   "execution_count": 36,
   "id": "fea9b6b8",
   "metadata": {},
   "outputs": [],
   "source": [
    "category_churn = transactions.groupby(['category', 'is_fraud'])['is_fraud'].count().unstack()\n",
    "\n",
    "category_churn = category_churn.fillna(0).sort_values(ascending = False, by = 1)[1]"
   ]
  },
  {
   "cell_type": "code",
   "execution_count": 37,
   "id": "652d4c37",
   "metadata": {},
   "outputs": [
    {
     "data": {
      "text/plain": [
       "category\n",
       "grocery_pos       360\n",
       "shopping_net      344\n",
       "misc_net          195\n",
       "shopping_pos      159\n",
       "gas_transport     106\n",
       "misc_pos           53\n",
       "personal_care      51\n",
       "kids_pets          46\n",
       "home               39\n",
       "entertainment      38\n",
       "grocery_net        31\n",
       "travel             31\n",
       "health_fitness     27\n",
       "food_dining        25\n",
       "Name: 1, dtype: int64"
      ]
     },
     "execution_count": 37,
     "metadata": {},
     "output_type": "execute_result"
    }
   ],
   "source": [
    "category_churn"
   ]
  },
  {
   "cell_type": "code",
   "execution_count": 38,
   "id": "18d5d589",
   "metadata": {},
   "outputs": [
    {
     "data": {
      "image/png": "[encoded data removed]",
      "text/plain": [
       "<Figure size 600x600 with 1 Axes>"
      ]
     },
     "metadata": {},
     "output_type": "display_data"
    }
   ],
   "source": [
    "plt.figure(figsize = (6, 6))\n",
    "\n",
    "sns.barplot(y = category_churn.index, x = category_churn.values, palette = 'viridis')\n",
    "plt.title('Categorias com mais casos de fraudes')\n",
    "plt.xlabel('Quantidade de fraudes')\n",
    "\n",
    "for i, v in enumerate(category_churn.values):\n",
    "    plt.text(v, i, str(v), ha = 'right', va = 'center', color = 'white')\n",
    "\n",
    "plt.show()"
   ]
  },
  {
   "cell_type": "markdown",
   "id": "7de68e90",
   "metadata": {},
   "source": [
    "Com certeza a categoria influencia muito na probabilidade de fraude, com destaque nas categorias 'grocery_pos', 'shopping_net', 'misc_net' e 'shopping_pos' com mais de 15 fraudes cada."
   ]
  },
  {
   "cell_type": "code",
   "execution_count": 39,
   "id": "d776587b",
   "metadata": {},
   "outputs": [],
   "source": [
    "churn_amt = transactions[transactions['is_fraud'] == 1]['amt']\n",
    "\n",
    "no_churn_amt = transactions[transactions['is_fraud'] == 0]['amt']"
   ]
  },
  {
   "cell_type": "code",
   "execution_count": 40,
   "id": "4467a308",
   "metadata": {},
   "outputs": [
    {
     "data": {
      "text/plain": [
       "count    1505.000000\n",
       "mean      527.696166\n",
       "std       389.723349\n",
       "min         1.910000\n",
       "25%       242.240000\n",
       "50%       374.080000\n",
       "75%       893.570000\n",
       "max      1294.830000\n",
       "Name: amt, dtype: float64"
      ]
     },
     "execution_count": 40,
     "metadata": {},
     "output_type": "execute_result"
    }
   ],
   "source": [
    "churn_amt.describe()"
   ]
  },
  {
   "cell_type": "code",
   "execution_count": 41,
   "id": "88b6d830",
   "metadata": {},
   "outputs": [
    {
     "data": {
      "text/plain": [
       "count    257830.000000\n",
       "mean         67.706177\n",
       "std         149.597892\n",
       "min           1.000000\n",
       "25%           9.590000\n",
       "50%          47.200000\n",
       "75%          82.430000\n",
       "max       15034.180000\n",
       "Name: amt, dtype: float64"
      ]
     },
     "execution_count": 41,
     "metadata": {},
     "output_type": "execute_result"
    }
   ],
   "source": [
    "no_churn_amt.describe()"
   ]
  },
  {
   "cell_type": "code",
   "execution_count": 42,
   "id": "bb398cec",
   "metadata": {},
   "outputs": [
    {
     "data": {
      "image/png": "[encoded data removed]",
      "text/plain": [
       "<Figure size 800x600 with 2 Axes>"
      ]
     },
     "metadata": {},
     "output_type": "display_data"
    }
   ],
   "source": [
    "fig, axs = plt.subplots(1, 2, figsize = (8, 6))\n",
    "\n",
    "for i, data in enumerate([no_churn_amt, churn_amt]):\n",
    "    sns.boxplot(y = data.values, color = 'purple', ax = axs[i])\n",
    "    axs[i].set_xlabel(i)\n",
    "\n",
    "plt.suptitle('Boxplot da quantia das transações fraudulentas e não fraudulentas')\n",
    "\n",
    "plt.show()"
   ]
  },
  {
   "cell_type": "markdown",
   "id": "aec4be8f",
   "metadata": {},
   "source": [
    "A maioria das fraudes ocorrem quando a quantia da transação está entre 130 e 890, certamente isso será de grande ajuda ao nosso modelo preditivo"
   ]
  },
  {
   "cell_type": "code",
   "execution_count": 43,
   "id": "91e7c3bd",
   "metadata": {},
   "outputs": [],
   "source": [
    "cc_num_churn = transactions.groupby(['cc_num', 'is_fraud'])['is_fraud'].count().unstack()\n",
    "\n",
    "cc_num_churn = cc_num_churn.fillna(0).sort_values(ascending = False, by = 1)\n",
    "\n",
    "cc_num_churn['total'] = cc_num_churn[0] + cc_num_churn[1]"
   ]
  },
  {
   "cell_type": "code",
   "execution_count": 44,
   "id": "e675e496",
   "metadata": {},
   "outputs": [],
   "source": [
    "statistic_cc_num_churn = cc_num_churn.groupby(1)['total'].agg(['mean', 'median', 'min', 'max'])"
   ]
  },
  {
   "cell_type": "code",
   "execution_count": 45,
   "id": "8fea517c",
   "metadata": {},
   "outputs": [
    {
     "data": {
      "text/html": [
       "<div>\n",
       "<style scoped>\n",
       "    .dataframe tbody tr th:only-of-type {\n",
       "        vertical-align: middle;\n",
       "    }\n",
       "\n",
       "    .dataframe tbody tr th {\n",
       "        vertical-align: top;\n",
       "    }\n",
       "\n",
       "    .dataframe thead th {\n",
       "        text-align: right;\n",
       "    }\n",
       "</style>\n",
       "<table border=\"1\" class=\"dataframe\">\n",
       "  <thead>\n",
       "    <tr style=\"text-align: right;\">\n",
       "      <th></th>\n",
       "      <th>mean</th>\n",
       "      <th>median</th>\n",
       "      <th>min</th>\n",
       "      <th>max</th>\n",
       "    </tr>\n",
       "    <tr>\n",
       "      <th>1</th>\n",
       "      <th></th>\n",
       "      <th></th>\n",
       "      <th></th>\n",
       "      <th></th>\n",
       "    </tr>\n",
       "  </thead>\n",
       "  <tbody>\n",
       "    <tr>\n",
       "      <th>0.0</th>\n",
       "      <td>283.766562</td>\n",
       "      <td>281.0</td>\n",
       "      <td>70.0</td>\n",
       "      <td>645.0</td>\n",
       "    </tr>\n",
       "    <tr>\n",
       "      <th>1.0</th>\n",
       "      <td>246.407960</td>\n",
       "      <td>215.0</td>\n",
       "      <td>1.0</td>\n",
       "      <td>658.0</td>\n",
       "    </tr>\n",
       "    <tr>\n",
       "      <th>2.0</th>\n",
       "      <td>254.788462</td>\n",
       "      <td>218.5</td>\n",
       "      <td>2.0</td>\n",
       "      <td>642.0</td>\n",
       "    </tr>\n",
       "    <tr>\n",
       "      <th>3.0</th>\n",
       "      <td>258.540000</td>\n",
       "      <td>229.0</td>\n",
       "      <td>3.0</td>\n",
       "      <td>643.0</td>\n",
       "    </tr>\n",
       "    <tr>\n",
       "      <th>4.0</th>\n",
       "      <td>279.816901</td>\n",
       "      <td>289.0</td>\n",
       "      <td>4.0</td>\n",
       "      <td>650.0</td>\n",
       "    </tr>\n",
       "    <tr>\n",
       "      <th>5.0</th>\n",
       "      <td>277.291667</td>\n",
       "      <td>247.5</td>\n",
       "      <td>5.0</td>\n",
       "      <td>606.0</td>\n",
       "    </tr>\n",
       "    <tr>\n",
       "      <th>6.0</th>\n",
       "      <td>358.000000</td>\n",
       "      <td>358.0</td>\n",
       "      <td>327.0</td>\n",
       "      <td>389.0</td>\n",
       "    </tr>\n",
       "    <tr>\n",
       "      <th>7.0</th>\n",
       "      <td>366.500000</td>\n",
       "      <td>366.5</td>\n",
       "      <td>301.0</td>\n",
       "      <td>432.0</td>\n",
       "    </tr>\n",
       "    <tr>\n",
       "      <th>8.0</th>\n",
       "      <td>105.000000</td>\n",
       "      <td>105.0</td>\n",
       "      <td>105.0</td>\n",
       "      <td>105.0</td>\n",
       "    </tr>\n",
       "  </tbody>\n",
       "</table>\n",
       "</div>"
      ],
      "text/plain": [
       "           mean  median    min    max\n",
       "1                                    \n",
       "0.0  283.766562   281.0   70.0  645.0\n",
       "1.0  246.407960   215.0    1.0  658.0\n",
       "2.0  254.788462   218.5    2.0  642.0\n",
       "3.0  258.540000   229.0    3.0  643.0\n",
       "4.0  279.816901   289.0    4.0  650.0\n",
       "5.0  277.291667   247.5    5.0  606.0\n",
       "6.0  358.000000   358.0  327.0  389.0\n",
       "7.0  366.500000   366.5  301.0  432.0\n",
       "8.0  105.000000   105.0  105.0  105.0"
      ]
     },
     "execution_count": 45,
     "metadata": {},
     "output_type": "execute_result"
    }
   ],
   "source": [
    "statistic_cc_num_churn"
   ]
  },
  {
   "cell_type": "markdown",
   "id": "6295b2d9",
   "metadata": {},
   "source": [
    "Com essas estatísticas podemos ver como a quantidade de compras que um cartão de crédito fez influencia na probabilidade de uma possível fraude. Quando um cartão tem pouquíssimas compras realizadas é um indício de que é uma possível fraude, um contraponto é que se uma pessoa que nunca fez uma compra nesta empresa vai fazer uma transação pelo cartão de crédito não necessariamente é uma fraude, apenas é sua primeira vez no estabelecimento."
   ]
  },
  {
   "cell_type": "markdown",
   "id": "a58bbc8c",
   "metadata": {},
   "source": [
    "# 5. Feature engineering / selection"
   ]
  },
  {
   "cell_type": "code",
   "execution_count": 46,
   "id": "041fe5fe",
   "metadata": {},
   "outputs": [],
   "source": [
    "X = transactions.drop(columns = ['is_fraud', 'Unnamed: 0', 'trans_date_trans_time'])\n",
    "\n",
    "y = transactions['is_fraud']"
   ]
  },
  {
   "cell_type": "code",
   "execution_count": 47,
   "id": "20800998",
   "metadata": {},
   "outputs": [],
   "source": [
    "X_train, X_test, y_train, y_test = train_test_split(X, y, test_size = 0.3, random_state = 42)"
   ]
  },
  {
   "cell_type": "code",
   "execution_count": 52,
   "id": "bfbf7078",
   "metadata": {},
   "outputs": [],
   "source": [
    "preprocessor = ColumnTransformer(\n",
    "    transformers=[\n",
    "        ('count_frequency_encoder', CountFrequencyEncoder(encoding_method = 'frequency'), ['cc_num', 'merchant', 'city', 'state', 'job']),\n",
    "        ('one_hot_encoder', OneHotEncoder(drop = 'if_binary'), ['gender', 'category']),\n",
    "        ('equal_width_discretiser', EqualWidthDiscretiser(bins = 30), ['amt']),\n",
    "        ('log_transformer', LogTransformer(), ['city_pop']),\n",
    "        ('scaler', StandardScaler(), ['amt', 'city_pop'])\n",
    "    ],\n",
    "\n",
    ")"
   ]
  },
  {
   "cell_type": "code",
   "execution_count": 67,
   "id": "e05b7f07",
   "metadata": {},
   "outputs": [],
   "source": [
    "pipeline = Pipeline(steps = [\n",
    "    ('preprocessor', preprocessor),\n",
    "    ('recursive_feature_elimination', RecursiveFeatureElimination(estimator = xgb.XGBClassifier(),\n",
    "                                                                 scoring = 'recall',\n",
    "                                                                 threshold = 0.05,\n",
    "                                                                 cv = 3)),\n",
    "    ('model', xgb.XGBClassifier())\n",
    "])"
   ]
  },
  {
   "cell_type": "markdown",
   "id": "a97b6f51",
   "metadata": {},
   "source": [
    "# 6. Treinando e validando modelo preditivo"
   ]
  },
  {
   "cell_type": "code",
   "execution_count": 68,
   "id": "0b6f979c",
   "metadata": {},
   "outputs": [
    {
     "data": {
      "text/html": [
       "<style>#sk-container-id-2 {\n",
       "  /* Definition of color scheme common for light and dark mode */\n",
       "  --sklearn-color-text: black;\n",
       "  --sklearn-color-line: gray;\n",
       "  /* Definition of color scheme for unfitted estimators */\n",
       "  --sklearn-color-unfitted-level-0: #fff5e6;\n",
       "  --sklearn-color-unfitted-level-1: #f6e4d2;\n",
       "  --sklearn-color-unfitted-level-2: #ffe0b3;\n",
       "  --sklearn-color-unfitted-level-3: chocolate;\n",
       "  /* Definition of color scheme for fitted estimators */\n",
       "  --sklearn-color-fitted-level-0: #f0f8ff;\n",
       "  --sklearn-color-fitted-level-1: #d4ebff;\n",
       "  --sklearn-color-fitted-level-2: #b3dbfd;\n",
       "  --sklearn-color-fitted-level-3: cornflowerblue;\n",
       "\n",
       "  /* Specific color for light theme */\n",
       "  --sklearn-color-text-on-default-background: var(--sg-text-color, var(--theme-code-foreground, var(--jp-content-font-color1, black)));\n",
       "  --sklearn-color-background: var(--sg-background-color, var(--theme-background, var(--jp-layout-color0, white)));\n",
       "  --sklearn-color-border-box: var(--sg-text-color, var(--theme-code-foreground, var(--jp-content-font-color1, black)));\n",
       "  --sklearn-color-icon: #696969;\n",
       "\n",
       "  @media (prefers-color-scheme: dark) {\n",
       "    /* Redefinition of color scheme for dark theme */\n",
       "    --sklearn-color-text-on-default-background: var(--sg-text-color, var(--theme-code-foreground, var(--jp-content-font-color1, white)));\n",
       "    --sklearn-color-background: var(--sg-background-color, var(--theme-background, var(--jp-layout-color0, #111)));\n",
       "    --sklearn-color-border-box: var(--sg-text-color, var(--theme-code-foreground, var(--jp-content-font-color1, white)));\n",
       "    --sklearn-color-icon: #878787;\n",
       "  }\n",
       "}\n",
       "\n",
       "#sk-container-id-2 {\n",
       "  color: var(--sklearn-color-text);\n",
       "}\n",
       "\n",
       "#sk-container-id-2 pre {\n",
       "  padding: 0;\n",
       "}\n",
       "\n",
       "#sk-container-id-2 input.sk-hidden--visually {\n",
       "  border: 0;\n",
       "  clip: rect(1px 1px 1px 1px);\n",
       "  clip: rect(1px, 1px, 1px, 1px);\n",
       "  height: 1px;\n",
       "  margin: -1px;\n",
       "  overflow: hidden;\n",
       "  padding: 0;\n",
       "  position: absolute;\n",
       "  width: 1px;\n",
       "}\n",
       "\n",
       "#sk-container-id-2 div.sk-dashed-wrapped {\n",
       "  border: 1px dashed var(--sklearn-color-line);\n",
       "  margin: 0 0.4em 0.5em 0.4em;\n",
       "  box-sizing: border-box;\n",
       "  padding-bottom: 0.4em;\n",
       "  background-color: var(--sklearn-color-background);\n",
       "}\n",
       "\n",
       "#sk-container-id-2 div.sk-container {\n",
       "  /* jupyter's `normalize.less` sets `[hidden] { display: none; }`\n",
       "     but bootstrap.min.css set `[hidden] { display: none !important; }`\n",
       "     so we also need the `!important` here to be able to override the\n",
       "     default hidden behavior on the sphinx rendered scikit-learn.org.\n",
       "     See: https://github.com/scikit-learn/scikit-learn/issues/21755 */\n",
       "  display: inline-block !important;\n",
       "  position: relative;\n",
       "}\n",
       "\n",
       "#sk-container-id-2 div.sk-text-repr-fallback {\n",
       "  display: none;\n",
       "}\n",
       "\n",
       "div.sk-parallel-item,\n",
       "div.sk-serial,\n",
       "div.sk-item {\n",
       "  /* draw centered vertical line to link estimators */\n",
       "  background-image: linear-gradient(var(--sklearn-color-text-on-default-background), var(--sklearn-color-text-on-default-background));\n",
       "  background-size: 2px 100%;\n",
       "  background-repeat: no-repeat;\n",
       "  background-position: center center;\n",
       "}\n",
       "\n",
       "/* Parallel-specific style estimator block */\n",
       "\n",
       "#sk-container-id-2 div.sk-parallel-item::after {\n",
       "  content: \"\";\n",
       "  width: 100%;\n",
       "  border-bottom: 2px solid var(--sklearn-color-text-on-default-background);\n",
       "  flex-grow: 1;\n",
       "}\n",
       "\n",
       "#sk-container-id-2 div.sk-parallel {\n",
       "  display: flex;\n",
       "  align-items: stretch;\n",
       "  justify-content: center;\n",
       "  background-color: var(--sklearn-color-background);\n",
       "  position: relative;\n",
       "}\n",
       "\n",
       "#sk-container-id-2 div.sk-parallel-item {\n",
       "  display: flex;\n",
       "  flex-direction: column;\n",
       "}\n",
       "\n",
       "#sk-container-id-2 div.sk-parallel-item:first-child::after {\n",
       "  align-self: flex-end;\n",
       "  width: 50%;\n",
       "}\n",
       "\n",
       "#sk-container-id-2 div.sk-parallel-item:last-child::after {\n",
       "  align-self: flex-start;\n",
       "  width: 50%;\n",
       "}\n",
       "\n",
       "#sk-container-id-2 div.sk-parallel-item:only-child::after {\n",
       "  width: 0;\n",
       "}\n",
       "\n",
       "/* Serial-specific style estimator block */\n",
       "\n",
       "#sk-container-id-2 div.sk-serial {\n",
       "  display: flex;\n",
       "  flex-direction: column;\n",
       "  align-items: center;\n",
       "  background-color: var(--sklearn-color-background);\n",
       "  padding-right: 1em;\n",
       "  padding-left: 1em;\n",
       "}\n",
       "\n",
       "\n",
       "/* Toggleable style: style used for estimator/Pipeline/ColumnTransformer box that is\n",
       "clickable and can be expanded/collapsed.\n",
       "- Pipeline and ColumnTransformer use this feature and define the default style\n",
       "- Estimators will overwrite some part of the style using the `sk-estimator` class\n",
       "*/\n",
       "\n",
       "/* Pipeline and ColumnTransformer style (default) */\n",
       "\n",
       "#sk-container-id-2 div.sk-toggleable {\n",
       "  /* Default theme specific background. It is overwritten whether we have a\n",
       "  specific estimator or a Pipeline/ColumnTransformer */\n",
       "  background-color: var(--sklearn-color-background);\n",
       "}\n",
       "\n",
       "/* Toggleable label */\n",
       "#sk-container-id-2 label.sk-toggleable__label {\n",
       "  cursor: pointer;\n",
       "  display: block;\n",
       "  width: 100%;\n",
       "  margin-bottom: 0;\n",
       "  padding: 0.5em;\n",
       "  box-sizing: border-box;\n",
       "  text-align: center;\n",
       "}\n",
       "\n",
       "#sk-container-id-2 label.sk-toggleable__label-arrow:before {\n",
       "  /* Arrow on the left of the label */\n",
       "  content: \"▸\";\n",
       "  float: left;\n",
       "  margin-right: 0.25em;\n",
       "  color: var(--sklearn-color-icon);\n",
       "}\n",
       "\n",
       "#sk-container-id-2 label.sk-toggleable__label-arrow:hover:before {\n",
       "  color: var(--sklearn-color-text);\n",
       "}\n",
       "\n",
       "/* Toggleable content - dropdown */\n",
       "\n",
       "#sk-container-id-2 div.sk-toggleable__content {\n",
       "  max-height: 0;\n",
       "  max-width: 0;\n",
       "  overflow: hidden;\n",
       "  text-align: left;\n",
       "  /* unfitted */\n",
       "  background-color: var(--sklearn-color-unfitted-level-0);\n",
       "}\n",
       "\n",
       "#sk-container-id-2 div.sk-toggleable__content.fitted {\n",
       "  /* fitted */\n",
       "  background-color: var(--sklearn-color-fitted-level-0);\n",
       "}\n",
       "\n",
       "#sk-container-id-2 div.sk-toggleable__content pre {\n",
       "  margin: 0.2em;\n",
       "  border-radius: 0.25em;\n",
       "  color: var(--sklearn-color-text);\n",
       "  /* unfitted */\n",
       "  background-color: var(--sklearn-color-unfitted-level-0);\n",
       "}\n",
       "\n",
       "#sk-container-id-2 div.sk-toggleable__content.fitted pre {\n",
       "  /* unfitted */\n",
       "  background-color: var(--sklearn-color-fitted-level-0);\n",
       "}\n",
       "\n",
       "#sk-container-id-2 input.sk-toggleable__control:checked~div.sk-toggleable__content {\n",
       "  /* Expand drop-down */\n",
       "  max-height: 200px;\n",
       "  max-width: 100%;\n",
       "  overflow: auto;\n",
       "}\n",
       "\n",
       "#sk-container-id-2 input.sk-toggleable__control:checked~label.sk-toggleable__label-arrow:before {\n",
       "  content: \"▾\";\n",
       "}\n",
       "\n",
       "/* Pipeline/ColumnTransformer-specific style */\n",
       "\n",
       "#sk-container-id-2 div.sk-label input.sk-toggleable__control:checked~label.sk-toggleable__label {\n",
       "  color: var(--sklearn-color-text);\n",
       "  background-color: var(--sklearn-color-unfitted-level-2);\n",
       "}\n",
       "\n",
       "#sk-container-id-2 div.sk-label.fitted input.sk-toggleable__control:checked~label.sk-toggleable__label {\n",
       "  background-color: var(--sklearn-color-fitted-level-2);\n",
       "}\n",
       "\n",
       "/* Estimator-specific style */\n",
       "\n",
       "/* Colorize estimator box */\n",
       "#sk-container-id-2 div.sk-estimator input.sk-toggleable__control:checked~label.sk-toggleable__label {\n",
       "  /* unfitted */\n",
       "  background-color: var(--sklearn-color-unfitted-level-2);\n",
       "}\n",
       "\n",
       "#sk-container-id-2 div.sk-estimator.fitted input.sk-toggleable__control:checked~label.sk-toggleable__label {\n",
       "  /* fitted */\n",
       "  background-color: var(--sklearn-color-fitted-level-2);\n",
       "}\n",
       "\n",
       "#sk-container-id-2 div.sk-label label.sk-toggleable__label,\n",
       "#sk-container-id-2 div.sk-label label {\n",
       "  /* The background is the default theme color */\n",
       "  color: var(--sklearn-color-text-on-default-background);\n",
       "}\n",
       "\n",
       "/* On hover, darken the color of the background */\n",
       "#sk-container-id-2 div.sk-label:hover label.sk-toggleable__label {\n",
       "  color: var(--sklearn-color-text);\n",
       "  background-color: var(--sklearn-color-unfitted-level-2);\n",
       "}\n",
       "\n",
       "/* Label box, darken color on hover, fitted */\n",
       "#sk-container-id-2 div.sk-label.fitted:hover label.sk-toggleable__label.fitted {\n",
       "  color: var(--sklearn-color-text);\n",
       "  background-color: var(--sklearn-color-fitted-level-2);\n",
       "}\n",
       "\n",
       "/* Estimator label */\n",
       "\n",
       "#sk-container-id-2 div.sk-label label {\n",
       "  font-family: monospace;\n",
       "  font-weight: bold;\n",
       "  display: inline-block;\n",
       "  line-height: 1.2em;\n",
       "}\n",
       "\n",
       "#sk-container-id-2 div.sk-label-container {\n",
       "  text-align: center;\n",
       "}\n",
       "\n",
       "/* Estimator-specific */\n",
       "#sk-container-id-2 div.sk-estimator {\n",
       "  font-family: monospace;\n",
       "  border: 1px dotted var(--sklearn-color-border-box);\n",
       "  border-radius: 0.25em;\n",
       "  box-sizing: border-box;\n",
       "  margin-bottom: 0.5em;\n",
       "  /* unfitted */\n",
       "  background-color: var(--sklearn-color-unfitted-level-0);\n",
       "}\n",
       "\n",
       "#sk-container-id-2 div.sk-estimator.fitted {\n",
       "  /* fitted */\n",
       "  background-color: var(--sklearn-color-fitted-level-0);\n",
       "}\n",
       "\n",
       "/* on hover */\n",
       "#sk-container-id-2 div.sk-estimator:hover {\n",
       "  /* unfitted */\n",
       "  background-color: var(--sklearn-color-unfitted-level-2);\n",
       "}\n",
       "\n",
       "#sk-container-id-2 div.sk-estimator.fitted:hover {\n",
       "  /* fitted */\n",
       "  background-color: var(--sklearn-color-fitted-level-2);\n",
       "}\n",
       "\n",
       "/* Specification for estimator info (e.g. \"i\" and \"?\") */\n",
       "\n",
       "/* Common style for \"i\" and \"?\" */\n",
       "\n",
       ".sk-estimator-doc-link,\n",
       "a:link.sk-estimator-doc-link,\n",
       "a:visited.sk-estimator-doc-link {\n",
       "  float: right;\n",
       "  font-size: smaller;\n",
       "  line-height: 1em;\n",
       "  font-family: monospace;\n",
       "  background-color: var(--sklearn-color-background);\n",
       "  border-radius: 1em;\n",
       "  height: 1em;\n",
       "  width: 1em;\n",
       "  text-decoration: none !important;\n",
       "  margin-left: 1ex;\n",
       "  /* unfitted */\n",
       "  border: var(--sklearn-color-unfitted-level-1) 1pt solid;\n",
       "  color: var(--sklearn-color-unfitted-level-1);\n",
       "}\n",
       "\n",
       ".sk-estimator-doc-link.fitted,\n",
       "a:link.sk-estimator-doc-link.fitted,\n",
       "a:visited.sk-estimator-doc-link.fitted {\n",
       "  /* fitted */\n",
       "  border: var(--sklearn-color-fitted-level-1) 1pt solid;\n",
       "  color: var(--sklearn-color-fitted-level-1);\n",
       "}\n",
       "\n",
       "/* On hover */\n",
       "div.sk-estimator:hover .sk-estimator-doc-link:hover,\n",
       ".sk-estimator-doc-link:hover,\n",
       "div.sk-label-container:hover .sk-estimator-doc-link:hover,\n",
       ".sk-estimator-doc-link:hover {\n",
       "  /* unfitted */\n",
       "  background-color: var(--sklearn-color-unfitted-level-3);\n",
       "  color: var(--sklearn-color-background);\n",
       "  text-decoration: none;\n",
       "}\n",
       "\n",
       "div.sk-estimator.fitted:hover .sk-estimator-doc-link.fitted:hover,\n",
       ".sk-estimator-doc-link.fitted:hover,\n",
       "div.sk-label-container:hover .sk-estimator-doc-link.fitted:hover,\n",
       ".sk-estimator-doc-link.fitted:hover {\n",
       "  /* fitted */\n",
       "  background-color: var(--sklearn-color-fitted-level-3);\n",
       "  color: var(--sklearn-color-background);\n",
       "  text-decoration: none;\n",
       "}\n",
       "\n",
       "/* Span, style for the box shown on hovering the info icon */\n",
       ".sk-estimator-doc-link span {\n",
       "  display: none;\n",
       "  z-index: 9999;\n",
       "  position: relative;\n",
       "  font-weight: normal;\n",
       "  right: .2ex;\n",
       "  padding: .5ex;\n",
       "  margin: .5ex;\n",
       "  width: min-content;\n",
       "  min-width: 20ex;\n",
       "  max-width: 50ex;\n",
       "  color: var(--sklearn-color-text);\n",
       "  box-shadow: 2pt 2pt 4pt #999;\n",
       "  /* unfitted */\n",
       "  background: var(--sklearn-color-unfitted-level-0);\n",
       "  border: .5pt solid var(--sklearn-color-unfitted-level-3);\n",
       "}\n",
       "\n",
       ".sk-estimator-doc-link.fitted span {\n",
       "  /* fitted */\n",
       "  background: var(--sklearn-color-fitted-level-0);\n",
       "  border: var(--sklearn-color-fitted-level-3);\n",
       "}\n",
       "\n",
       ".sk-estimator-doc-link:hover span {\n",
       "  display: block;\n",
       "}\n",
       "\n",
       "/* \"?\"-specific style due to the `<a>` HTML tag */\n",
       "\n",
       "#sk-container-id-2 a.estimator_doc_link {\n",
       "  float: right;\n",
       "  font-size: 1rem;\n",
       "  line-height: 1em;\n",
       "  font-family: monospace;\n",
       "  background-color: var(--sklearn-color-background);\n",
       "  border-radius: 1rem;\n",
       "  height: 1rem;\n",
       "  width: 1rem;\n",
       "  text-decoration: none;\n",
       "  /* unfitted */\n",
       "  color: var(--sklearn-color-unfitted-level-1);\n",
       "  border: var(--sklearn-color-unfitted-level-1) 1pt solid;\n",
       "}\n",
       "\n",
       "#sk-container-id-2 a.estimator_doc_link.fitted {\n",
       "  /* fitted */\n",
       "  border: var(--sklearn-color-fitted-level-1) 1pt solid;\n",
       "  color: var(--sklearn-color-fitted-level-1);\n",
       "}\n",
       "\n",
       "/* On hover */\n",
       "#sk-container-id-2 a.estimator_doc_link:hover {\n",
       "  /* unfitted */\n",
       "  background-color: var(--sklearn-color-unfitted-level-3);\n",
       "  color: var(--sklearn-color-background);\n",
       "  text-decoration: none;\n",
       "}\n",
       "\n",
       "#sk-container-id-2 a.estimator_doc_link.fitted:hover {\n",
       "  /* fitted */\n",
       "  background-color: var(--sklearn-color-fitted-level-3);\n",
       "}\n",
       "</style><div id=\"sk-container-id-2\" class=\"sk-top-container\"><div class=\"sk-text-repr-fallback\"><pre>Pipeline(steps=[(&#x27;preprocessor&#x27;,\n",
       "                 ColumnTransformer(transformers=[(&#x27;count_frequency_encoder&#x27;,\n",
       "                                                  CountFrequencyEncoder(encoding_method=&#x27;frequency&#x27;),\n",
       "                                                  [&#x27;cc_num&#x27;, &#x27;merchant&#x27;, &#x27;city&#x27;,\n",
       "                                                   &#x27;state&#x27;, &#x27;job&#x27;]),\n",
       "                                                 (&#x27;one_hot_encoder&#x27;,\n",
       "                                                  OneHotEncoder(drop=&#x27;if_binary&#x27;),\n",
       "                                                  [&#x27;gender&#x27;, &#x27;category&#x27;]),\n",
       "                                                 (&#x27;equal_width_discretiser&#x27;,\n",
       "                                                  EqualWidthDiscretiser(bins=30),\n",
       "                                                  [&#x27;amt&#x27;]),\n",
       "                                                 (&#x27;log_transformer&#x27;,\n",
       "                                                  LogT...\n",
       "                               feature_types=None, gamma=None, grow_policy=None,\n",
       "                               importance_type=None,\n",
       "                               interaction_constraints=None, learning_rate=None,\n",
       "                               max_bin=None, max_cat_threshold=None,\n",
       "                               max_cat_to_onehot=None, max_delta_step=None,\n",
       "                               max_depth=None, max_leaves=None,\n",
       "                               min_child_weight=None, missing=nan,\n",
       "                               monotone_constraints=None, multi_strategy=None,\n",
       "                               n_estimators=None, n_jobs=None,\n",
       "                               num_parallel_tree=None, random_state=None, ...))])</pre><b>In a Jupyter environment, please rerun this cell to show the HTML representation or trust the notebook. <br />On GitHub, the HTML representation is unable to render, please try loading this page with nbviewer.org.</b></div><div class=\"sk-container\" hidden><div class=\"sk-item sk-dashed-wrapped\"><div class=\"sk-label-container\"><div class=\"sk-label fitted sk-toggleable\"><input class=\"sk-toggleable__control sk-hidden--visually\" id=\"sk-estimator-id-17\" type=\"checkbox\" ><label for=\"sk-estimator-id-17\" class=\"sk-toggleable__label fitted sk-toggleable__label-arrow fitted\">&nbsp;&nbsp;Pipeline<a class=\"sk-estimator-doc-link fitted\" rel=\"noreferrer\" target=\"_blank\" href=\"https://scikit-learn.org/1.5/modules/generated/sklearn.pipeline.Pipeline.html\">?<span>Documentation for Pipeline</span></a><span class=\"sk-estimator-doc-link fitted\">i<span>Fitted</span></span></label><div class=\"sk-toggleable__content fitted\"><pre>Pipeline(steps=[(&#x27;preprocessor&#x27;,\n",
       "                 ColumnTransformer(transformers=[(&#x27;count_frequency_encoder&#x27;,\n",
       "                                                  CountFrequencyEncoder(encoding_method=&#x27;frequency&#x27;),\n",
       "                                                  [&#x27;cc_num&#x27;, &#x27;merchant&#x27;, &#x27;city&#x27;,\n",
       "                                                   &#x27;state&#x27;, &#x27;job&#x27;]),\n",
       "                                                 (&#x27;one_hot_encoder&#x27;,\n",
       "                                                  OneHotEncoder(drop=&#x27;if_binary&#x27;),\n",
       "                                                  [&#x27;gender&#x27;, &#x27;category&#x27;]),\n",
       "                                                 (&#x27;equal_width_discretiser&#x27;,\n",
       "                                                  EqualWidthDiscretiser(bins=30),\n",
       "                                                  [&#x27;amt&#x27;]),\n",
       "                                                 (&#x27;log_transformer&#x27;,\n",
       "                                                  LogT...\n",
       "                               feature_types=None, gamma=None, grow_policy=None,\n",
       "                               importance_type=None,\n",
       "                               interaction_constraints=None, learning_rate=None,\n",
       "                               max_bin=None, max_cat_threshold=None,\n",
       "                               max_cat_to_onehot=None, max_delta_step=None,\n",
       "                               max_depth=None, max_leaves=None,\n",
       "                               min_child_weight=None, missing=nan,\n",
       "                               monotone_constraints=None, multi_strategy=None,\n",
       "                               n_estimators=None, n_jobs=None,\n",
       "                               num_parallel_tree=None, random_state=None, ...))])</pre></div> </div></div><div class=\"sk-serial\"><div class=\"sk-item sk-dashed-wrapped\"><div class=\"sk-label-container\"><div class=\"sk-label fitted sk-toggleable\"><input class=\"sk-toggleable__control sk-hidden--visually\" id=\"sk-estimator-id-18\" type=\"checkbox\" ><label for=\"sk-estimator-id-18\" class=\"sk-toggleable__label fitted sk-toggleable__label-arrow fitted\">&nbsp;preprocessor: ColumnTransformer<a class=\"sk-estimator-doc-link fitted\" rel=\"noreferrer\" target=\"_blank\" href=\"https://scikit-learn.org/1.5/modules/generated/sklearn.compose.ColumnTransformer.html\">?<span>Documentation for preprocessor: ColumnTransformer</span></a></label><div class=\"sk-toggleable__content fitted\"><pre>ColumnTransformer(transformers=[(&#x27;count_frequency_encoder&#x27;,\n",
       "                                 CountFrequencyEncoder(encoding_method=&#x27;frequency&#x27;),\n",
       "                                 [&#x27;cc_num&#x27;, &#x27;merchant&#x27;, &#x27;city&#x27;, &#x27;state&#x27;,\n",
       "                                  &#x27;job&#x27;]),\n",
       "                                (&#x27;one_hot_encoder&#x27;,\n",
       "                                 OneHotEncoder(drop=&#x27;if_binary&#x27;),\n",
       "                                 [&#x27;gender&#x27;, &#x27;category&#x27;]),\n",
       "                                (&#x27;equal_width_discretiser&#x27;,\n",
       "                                 EqualWidthDiscretiser(bins=30), [&#x27;amt&#x27;]),\n",
       "                                (&#x27;log_transformer&#x27;, LogTransformer(),\n",
       "                                 [&#x27;city_pop&#x27;]),\n",
       "                                (&#x27;scaler&#x27;, StandardScaler(),\n",
       "                                 [&#x27;amt&#x27;, &#x27;city_pop&#x27;])])</pre></div> </div></div><div class=\"sk-parallel\"><div class=\"sk-parallel-item\"><div class=\"sk-item\"><div class=\"sk-label-container\"><div class=\"sk-label fitted sk-toggleable\"><input class=\"sk-toggleable__control sk-hidden--visually\" id=\"sk-estimator-id-19\" type=\"checkbox\" ><label for=\"sk-estimator-id-19\" class=\"sk-toggleable__label fitted sk-toggleable__label-arrow fitted\">count_frequency_encoder</label><div class=\"sk-toggleable__content fitted\"><pre>[&#x27;cc_num&#x27;, &#x27;merchant&#x27;, &#x27;city&#x27;, &#x27;state&#x27;, &#x27;job&#x27;]</pre></div> </div></div><div class=\"sk-serial\"><div class=\"sk-item\"><div class=\"sk-estimator fitted sk-toggleable\"><input class=\"sk-toggleable__control sk-hidden--visually\" id=\"sk-estimator-id-20\" type=\"checkbox\" ><label for=\"sk-estimator-id-20\" class=\"sk-toggleable__label fitted sk-toggleable__label-arrow fitted\">CountFrequencyEncoder</label><div class=\"sk-toggleable__content fitted\"><pre>CountFrequencyEncoder(encoding_method=&#x27;frequency&#x27;)</pre></div> </div></div></div></div></div><div class=\"sk-parallel-item\"><div class=\"sk-item\"><div class=\"sk-label-container\"><div class=\"sk-label fitted sk-toggleable\"><input class=\"sk-toggleable__control sk-hidden--visually\" id=\"sk-estimator-id-21\" type=\"checkbox\" ><label for=\"sk-estimator-id-21\" class=\"sk-toggleable__label fitted sk-toggleable__label-arrow fitted\">one_hot_encoder</label><div class=\"sk-toggleable__content fitted\"><pre>[&#x27;gender&#x27;, &#x27;category&#x27;]</pre></div> </div></div><div class=\"sk-serial\"><div class=\"sk-item\"><div class=\"sk-estimator fitted sk-toggleable\"><input class=\"sk-toggleable__control sk-hidden--visually\" id=\"sk-estimator-id-22\" type=\"checkbox\" ><label for=\"sk-estimator-id-22\" class=\"sk-toggleable__label fitted sk-toggleable__label-arrow fitted\">&nbsp;OneHotEncoder<a class=\"sk-estimator-doc-link fitted\" rel=\"noreferrer\" target=\"_blank\" href=\"https://scikit-learn.org/1.5/modules/generated/sklearn.preprocessing.OneHotEncoder.html\">?<span>Documentation for OneHotEncoder</span></a></label><div class=\"sk-toggleable__content fitted\"><pre>OneHotEncoder(drop=&#x27;if_binary&#x27;)</pre></div> </div></div></div></div></div><div class=\"sk-parallel-item\"><div class=\"sk-item\"><div class=\"sk-label-container\"><div class=\"sk-label fitted sk-toggleable\"><input class=\"sk-toggleable__control sk-hidden--visually\" id=\"sk-estimator-id-23\" type=\"checkbox\" ><label for=\"sk-estimator-id-23\" class=\"sk-toggleable__label fitted sk-toggleable__label-arrow fitted\">equal_width_discretiser</label><div class=\"sk-toggleable__content fitted\"><pre>[&#x27;amt&#x27;]</pre></div> </div></div><div class=\"sk-serial\"><div class=\"sk-item\"><div class=\"sk-estimator fitted sk-toggleable\"><input class=\"sk-toggleable__control sk-hidden--visually\" id=\"sk-estimator-id-24\" type=\"checkbox\" ><label for=\"sk-estimator-id-24\" class=\"sk-toggleable__label fitted sk-toggleable__label-arrow fitted\">EqualWidthDiscretiser</label><div class=\"sk-toggleable__content fitted\"><pre>EqualWidthDiscretiser(bins=30)</pre></div> </div></div></div></div></div><div class=\"sk-parallel-item\"><div class=\"sk-item\"><div class=\"sk-label-container\"><div class=\"sk-label fitted sk-toggleable\"><input class=\"sk-toggleable__control sk-hidden--visually\" id=\"sk-estimator-id-25\" type=\"checkbox\" ><label for=\"sk-estimator-id-25\" class=\"sk-toggleable__label fitted sk-toggleable__label-arrow fitted\">log_transformer</label><div class=\"sk-toggleable__content fitted\"><pre>[&#x27;city_pop&#x27;]</pre></div> </div></div><div class=\"sk-serial\"><div class=\"sk-item\"><div class=\"sk-estimator fitted sk-toggleable\"><input class=\"sk-toggleable__control sk-hidden--visually\" id=\"sk-estimator-id-26\" type=\"checkbox\" ><label for=\"sk-estimator-id-26\" class=\"sk-toggleable__label fitted sk-toggleable__label-arrow fitted\">LogTransformer</label><div class=\"sk-toggleable__content fitted\"><pre>LogTransformer()</pre></div> </div></div></div></div></div><div class=\"sk-parallel-item\"><div class=\"sk-item\"><div class=\"sk-label-container\"><div class=\"sk-label fitted sk-toggleable\"><input class=\"sk-toggleable__control sk-hidden--visually\" id=\"sk-estimator-id-27\" type=\"checkbox\" ><label for=\"sk-estimator-id-27\" class=\"sk-toggleable__label fitted sk-toggleable__label-arrow fitted\">scaler</label><div class=\"sk-toggleable__content fitted\"><pre>[&#x27;amt&#x27;, &#x27;city_pop&#x27;]</pre></div> </div></div><div class=\"sk-serial\"><div class=\"sk-item\"><div class=\"sk-estimator fitted sk-toggleable\"><input class=\"sk-toggleable__control sk-hidden--visually\" id=\"sk-estimator-id-28\" type=\"checkbox\" ><label for=\"sk-estimator-id-28\" class=\"sk-toggleable__label fitted sk-toggleable__label-arrow fitted\">&nbsp;StandardScaler<a class=\"sk-estimator-doc-link fitted\" rel=\"noreferrer\" target=\"_blank\" href=\"https://scikit-learn.org/1.5/modules/generated/sklearn.preprocessing.StandardScaler.html\">?<span>Documentation for StandardScaler</span></a></label><div class=\"sk-toggleable__content fitted\"><pre>StandardScaler()</pre></div> </div></div></div></div></div></div></div><div class=\"sk-item sk-dashed-wrapped\"><div class=\"sk-label-container\"><div class=\"sk-label fitted sk-toggleable\"><input class=\"sk-toggleable__control sk-hidden--visually\" id=\"sk-estimator-id-29\" type=\"checkbox\" ><label for=\"sk-estimator-id-29\" class=\"sk-toggleable__label fitted sk-toggleable__label-arrow fitted\">recursive_feature_elimination: RecursiveFeatureElimination</label><div class=\"sk-toggleable__content fitted\"><pre>RecursiveFeatureElimination(estimator=XGBClassifier(base_score=None,\n",
       "                                                    booster=None,\n",
       "                                                    callbacks=None,\n",
       "                                                    colsample_bylevel=None,\n",
       "                                                    colsample_bynode=None,\n",
       "                                                    colsample_bytree=None,\n",
       "                                                    device=None,\n",
       "                                                    early_stopping_rounds=None,\n",
       "                                                    enable_categorical=False,\n",
       "                                                    eval_metric=None,\n",
       "                                                    feature_types=None,\n",
       "                                                    gamma=None,\n",
       "                                                    grow_policy=None,\n",
       "                                                    importance_type=None,\n",
       "                                                    interaction_constraints=None,\n",
       "                                                    learning_rate=None,\n",
       "                                                    max_bin=None,\n",
       "                                                    max_cat_threshold=None,\n",
       "                                                    max_cat_to_onehot=None,\n",
       "                                                    max_delta_step=None,\n",
       "                                                    max_depth=None,\n",
       "                                                    max_leaves=None,\n",
       "                                                    min_child_weight=None,\n",
       "                                                    missing=nan,\n",
       "                                                    monotone_constraints=None,\n",
       "                                                    multi_strategy=None,\n",
       "                                                    n_estimators=None,\n",
       "                                                    n_jobs=None,\n",
       "                                                    num_parallel_tree=None,\n",
       "                                                    random_state=None, ...),\n",
       "                            scoring=&#x27;recall&#x27;, threshold=0.05)</pre></div> </div></div><div class=\"sk-parallel\"><div class=\"sk-parallel-item\"><div class=\"sk-item\"><div class=\"sk-label-container\"><div class=\"sk-label fitted sk-toggleable\"><input class=\"sk-toggleable__control sk-hidden--visually\" id=\"sk-estimator-id-30\" type=\"checkbox\" ><label for=\"sk-estimator-id-30\" class=\"sk-toggleable__label fitted sk-toggleable__label-arrow fitted\">estimator: XGBClassifier</label><div class=\"sk-toggleable__content fitted\"><pre>XGBClassifier(base_score=None, booster=None, callbacks=None,\n",
       "              colsample_bylevel=None, colsample_bynode=None,\n",
       "              colsample_bytree=None, device=None, early_stopping_rounds=None,\n",
       "              enable_categorical=False, eval_metric=None, feature_types=None,\n",
       "              gamma=None, grow_policy=None, importance_type=None,\n",
       "              interaction_constraints=None, learning_rate=None, max_bin=None,\n",
       "              max_cat_threshold=None, max_cat_to_onehot=None,\n",
       "              max_delta_step=None, max_depth=None, max_leaves=None,\n",
       "              min_child_weight=None, missing=nan, monotone_constraints=None,\n",
       "              multi_strategy=None, n_estimators=None, n_jobs=None,\n",
       "              num_parallel_tree=None, random_state=None, ...)</pre></div> </div></div><div class=\"sk-serial\"><div class=\"sk-item\"><div class=\"sk-estimator fitted sk-toggleable\"><input class=\"sk-toggleable__control sk-hidden--visually\" id=\"sk-estimator-id-31\" type=\"checkbox\" ><label for=\"sk-estimator-id-31\" class=\"sk-toggleable__label fitted sk-toggleable__label-arrow fitted\">XGBClassifier</label><div class=\"sk-toggleable__content fitted\"><pre>XGBClassifier(base_score=None, booster=None, callbacks=None,\n",
       "              colsample_bylevel=None, colsample_bynode=None,\n",
       "              colsample_bytree=None, device=None, early_stopping_rounds=None,\n",
       "              enable_categorical=False, eval_metric=None, feature_types=None,\n",
       "              gamma=None, grow_policy=None, importance_type=None,\n",
       "              interaction_constraints=None, learning_rate=None, max_bin=None,\n",
       "              max_cat_threshold=None, max_cat_to_onehot=None,\n",
       "              max_delta_step=None, max_depth=None, max_leaves=None,\n",
       "              min_child_weight=None, missing=nan, monotone_constraints=None,\n",
       "              multi_strategy=None, n_estimators=None, n_jobs=None,\n",
       "              num_parallel_tree=None, random_state=None, ...)</pre></div> </div></div></div></div></div></div></div><div class=\"sk-item\"><div class=\"sk-estimator fitted sk-toggleable\"><input class=\"sk-toggleable__control sk-hidden--visually\" id=\"sk-estimator-id-32\" type=\"checkbox\" ><label for=\"sk-estimator-id-32\" class=\"sk-toggleable__label fitted sk-toggleable__label-arrow fitted\">XGBClassifier</label><div class=\"sk-toggleable__content fitted\"><pre>XGBClassifier(base_score=None, booster=None, callbacks=None,\n",
       "              colsample_bylevel=None, colsample_bynode=None,\n",
       "              colsample_bytree=None, device=None, early_stopping_rounds=None,\n",
       "              enable_categorical=False, eval_metric=None, feature_types=None,\n",
       "              gamma=None, grow_policy=None, importance_type=None,\n",
       "              interaction_constraints=None, learning_rate=None, max_bin=None,\n",
       "              max_cat_threshold=None, max_cat_to_onehot=None,\n",
       "              max_delta_step=None, max_depth=None, max_leaves=None,\n",
       "              min_child_weight=None, missing=nan, monotone_constraints=None,\n",
       "              multi_strategy=None, n_estimators=None, n_jobs=None,\n",
       "              num_parallel_tree=None, random_state=None, ...)</pre></div> </div></div></div></div></div></div>"
      ],
      "text/plain": [
       "Pipeline(steps=[('preprocessor',\n",
       "                 ColumnTransformer(transformers=[('count_frequency_encoder',\n",
       "                                                  CountFrequencyEncoder(encoding_method='frequency'),\n",
       "                                                  ['cc_num', 'merchant', 'city',\n",
       "                                                   'state', 'job']),\n",
       "                                                 ('one_hot_encoder',\n",
       "                                                  OneHotEncoder(drop='if_binary'),\n",
       "                                                  ['gender', 'category']),\n",
       "                                                 ('equal_width_discretiser',\n",
       "                                                  EqualWidthDiscretiser(bins=30),\n",
       "                                                  ['amt']),\n",
       "                                                 ('log_transformer',\n",
       "                                                  LogT...\n",
       "                               feature_types=None, gamma=None, grow_policy=None,\n",
       "                               importance_type=None,\n",
       "                               interaction_constraints=None, learning_rate=None,\n",
       "                               max_bin=None, max_cat_threshold=None,\n",
       "                               max_cat_to_onehot=None, max_delta_step=None,\n",
       "                               max_depth=None, max_leaves=None,\n",
       "                               min_child_weight=None, missing=nan,\n",
       "                               monotone_constraints=None, multi_strategy=None,\n",
       "                               n_estimators=None, n_jobs=None,\n",
       "                               num_parallel_tree=None, random_state=None, ...))])"
      ]
     },
     "execution_count": 68,
     "metadata": {},
     "output_type": "execute_result"
    }
   ],
   "source": [
    "pipeline.fit(X_train, y_train)"
   ]
  },
  {
   "cell_type": "markdown",
   "id": "568cdaae",
   "metadata": {},
   "source": [
    "### Primeira validação"
   ]
  },
  {
   "cell_type": "code",
   "execution_count": 69,
   "id": "3e74dacf",
   "metadata": {},
   "outputs": [],
   "source": [
    "y_pred = pipeline.predict(X_test)"
   ]
  },
  {
   "cell_type": "code",
   "execution_count": 70,
   "id": "2aa9ad8a",
   "metadata": {},
   "outputs": [
    {
     "name": "stdout",
     "output_type": "stream",
     "text": [
      "Acurácia: 1.00\n",
      "Recall Score: 0.59\n",
      "Precision Score: 0.75\n",
      "F1-Score: 0.66\n",
      "Roc-Auc-Score: 0.79\n"
     ]
    }
   ],
   "source": [
    "print(f'Acurácia: {accuracy_score(y_test, y_pred):.2f}')\n",
    "print(f'Recall Score: {recall_score(y_test, y_pred):.2f}')\n",
    "print(f'Precision Score: {precision_score(y_test, y_pred):.2f}')\n",
    "print(f'F1-Score: {f1_score(y_test, y_pred):.2f}')\n",
    "print(f'Roc-Auc-Score: {roc_auc_score(y_test, y_pred):.2f}')"
   ]
  },
  {
   "cell_type": "code",
   "execution_count": 71,
   "id": "8cdacc19",
   "metadata": {},
   "outputs": [],
   "source": [
    "confusion = confusion_matrix(y_test, y_pred)"
   ]
  },
  {
   "cell_type": "code",
   "execution_count": 72,
   "id": "a48c6c8f",
   "metadata": {
    "scrolled": false
   },
   "outputs": [
    {
     "data": {
      "image/png": "[encoded data removed]",
      "text/plain": [
       "<Figure size 600x600 with 2 Axes>"
      ]
     },
     "metadata": {},
     "output_type": "display_data"
    }
   ],
   "source": [
    "plt.figure(figsize = (6, 6))\n",
    "\n",
    "sns.heatmap(confusion, annot = True, fmt = 'd', cmap = 'Blues')\n",
    "\n",
    "plt.show()"
   ]
  },
  {
   "cell_type": "markdown",
   "id": "f5d0acc0",
   "metadata": {},
   "source": [
    "### Ajustando parâmetros"
   ]
  },
  {
   "cell_type": "code",
   "execution_count": 96,
   "id": "0fbeb4ef",
   "metadata": {},
   "outputs": [],
   "source": [
    "y_proba = pipeline.predict_proba(X_test)[:, 1]\n",
    "\n",
    "y_pred_adjusted = (y_proba >= 0.001).astype(int)\n",
    "\n",
    "confusion_ajusted = confusion_matrix(y_test, y_pred_adjusted)"
   ]
  },
  {
   "cell_type": "code",
   "execution_count": 97,
   "id": "e100b725",
   "metadata": {},
   "outputs": [
    {
     "name": "stdout",
     "output_type": "stream",
     "text": [
      "Acurácia: 0.77\n",
      "Recall Score: 0.96\n",
      "Precision Score: 0.02\n",
      "F1-Score: 0.05\n",
      "Roc-Auc-Score: 0.86\n"
     ]
    }
   ],
   "source": [
    "print(f'Acurácia: {accuracy_score(y_test, y_pred_adjusted):.2f}')\n",
    "print(f'Recall Score: {recall_score(y_test, y_pred_adjusted):.2f}')\n",
    "print(f'Precision Score: {precision_score(y_test, y_pred_adjusted):.2f}')\n",
    "print(f'F1-Score: {f1_score(y_test, y_pred_adjusted):.2f}')\n",
    "print(f'Roc-Auc-Score: {roc_auc_score(y_test, y_pred_adjusted):.2f}')"
   ]
  },
  {
   "cell_type": "code",
   "execution_count": 98,
   "id": "0bbd3ba2",
   "metadata": {
    "scrolled": false
   },
   "outputs": [
    {
     "data": {
      "image/png": "[encoded data removed]",
      "text/plain": [
       "<Figure size 600x600 with 2 Axes>"
      ]
     },
     "metadata": {},
     "output_type": "display_data"
    }
   ],
   "source": [
    "plt.figure(figsize = (6, 6))\n",
    "\n",
    "sns.heatmap(confusion_ajusted, annot = True, fmt = 'd', cmap = 'Blues')\n",
    "\n",
    "plt.show()"
   ]
  },
  {
   "cell_type": "markdown",
   "id": "5dbe76d5",
   "metadata": {},
   "source": [
    "### Validação cruzada"
   ]
  },
  {
   "cell_type": "code",
   "execution_count": 99,
   "id": "646abab3",
   "metadata": {},
   "outputs": [],
   "source": [
    "kf = KFold(n_splits = 5, shuffle = True, random_state = 42)\n",
    "\n",
    "cv_recalls = cross_val_score(pipeline, X_train, y_train, cv = kf, scoring = 'recall')"
   ]
  },
  {
   "cell_type": "code",
   "execution_count": 100,
   "id": "cc3ce206",
   "metadata": {},
   "outputs": [
    {
     "data": {
      "text/plain": [
       "array([0.515     , 0.60663507, 0.59693878, 0.5915493 , 0.46818182])"
      ]
     },
     "execution_count": 100,
     "metadata": {},
     "output_type": "execute_result"
    }
   ],
   "source": [
    "cv_recalls"
   ]
  },
  {
   "cell_type": "markdown",
   "id": "9990f0a1",
   "metadata": {},
   "source": [
    "### Testando modelo para o dataset original"
   ]
  },
  {
   "cell_type": "code",
   "execution_count": 101,
   "id": "aaad7acd",
   "metadata": {},
   "outputs": [],
   "source": [
    "X_total = df.drop(columns = ['is_fraud'])\n",
    "\n",
    "y_total = df['is_fraud']"
   ]
  },
  {
   "cell_type": "code",
   "execution_count": 102,
   "id": "f32a320e",
   "metadata": {},
   "outputs": [],
   "source": [
    "y_pred_total = pipeline.predict(X_total)"
   ]
  },
  {
   "cell_type": "code",
   "execution_count": 124,
   "id": "71e8d2bd",
   "metadata": {},
   "outputs": [],
   "source": [
    "y_proba_total = pipeline.predict_proba(X_total)[:, 1]\n",
    "\n",
    "y_pred_total_adjusted = (y_proba_total >= 0.001).astype(int)\n",
    "\n",
    "confusion_ajusted = confusion_matrix(y_total, y_pred_total_adjusted)"
   ]
  },
  {
   "cell_type": "code",
   "execution_count": 125,
   "id": "ec7fa33d",
   "metadata": {},
   "outputs": [
    {
     "name": "stdout",
     "output_type": "stream",
     "text": [
      "Acurácia: 0.77\n",
      "Recall Score: 0.98\n",
      "Precision Score: 0.02\n",
      "F1-Score: 0.05\n",
      "Roc-Auc-Score: 0.87\n"
     ]
    }
   ],
   "source": [
    "print(f'Acurácia: {accuracy_score(y_total, y_pred_total_adjusted):.2f}')\n",
    "print(f'Recall Score: {recall_score(y_total, y_pred_total_adjusted):.2f}')\n",
    "print(f'Precision Score: {precision_score(y_total, y_pred_total_adjusted):.2f}')\n",
    "print(f'F1-Score: {f1_score(y_total, y_pred_total_adjusted):.2f}')\n",
    "print(f'Roc-Auc-Score: {roc_auc_score(y_total, y_pred_total_adjusted):.2f}')"
   ]
  },
  {
   "cell_type": "code",
   "execution_count": 126,
   "id": "52da26fe",
   "metadata": {},
   "outputs": [],
   "source": [
    "confusion_total = confusion_matrix(y_total, y_pred_total_adjusted)"
   ]
  },
  {
   "cell_type": "code",
   "execution_count": 127,
   "id": "165ff684",
   "metadata": {},
   "outputs": [
    {
     "data": {
      "image/png": "[encoded data removed]",
      "text/plain": [
       "<Figure size 600x600 with 2 Axes>"
      ]
     },
     "metadata": {},
     "output_type": "display_data"
    }
   ],
   "source": [
    "plt.figure(figsize = (6, 6))\n",
    "\n",
    "sns.heatmap(confusion_total, annot = True, fmt = 'd', cmap = 'Blues')\n",
    "\n",
    "plt.show()"
   ]
  }
 ],
 "metadata": {
  "kernelspec": {
   "display_name": "Python 3 (ipykernel)",
   "language": "python",
   "name": "python3"
  },
  "language_info": {
   "codemirror_mode": {
    "name": "ipython",
    "version": 3
   },
   "file_extension": ".py",
   "mimetype": "text/x-python",
   "name": "python",
   "nbconvert_exporter": "python",
   "pygments_lexer": "ipython3",
   "version": "3.9.13"
  }
 },
 "nbformat": 4,
 "nbformat_minor": 5
}
